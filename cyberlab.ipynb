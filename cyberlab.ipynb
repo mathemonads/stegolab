{
 "cells": [
  {
   "cell_type": "markdown",
   "metadata": {},
   "source": [
    "# Interactive Notebook to explore information hiding\n",
    "\n",
    "## 0. Download computer programs"
   ]
  },
  {
   "cell_type": "code",
   "execution_count": 1,
   "metadata": {
    "colab": {
     "base_uri": "https://localhost:8080/"
    },
    "executionInfo": {
     "elapsed": 20923,
     "status": "ok",
     "timestamp": 1716286687901,
     "user": {
      "displayName": "Oscar Hernandez",
      "userId": "15982305520609521713"
     },
     "user_tz": 600
    },
    "id": "McSY0DPPQgXP",
    "outputId": "7d9e28aa-1931-4297-fafc-ceef32cccdbb",
    "scrolled": true
   },
   "outputs": [
    {
     "name": "stdout",
     "output_type": "stream",
     "text": [
      "Found existing installation: textstego 0.1.0\n",
      "Uninstalling textstego-0.1.0:\n",
      "  Successfully uninstalled textstego-0.1.0\n",
      "Files removed: 4\n",
      "Repository already exists. Removing\n",
      "Cloning into 'textstego'...\n",
      "remote: Enumerating objects: 55, done.\u001b[K\n",
      "remote: Counting objects: 100% (55/55), done.\u001b[K\n",
      "remote: Compressing objects: 100% (39/39), done.\u001b[K\n",
      "remote: Total 55 (delta 7), reused 50 (delta 5), pack-reused 0\u001b[K\n",
      "Receiving objects: 100% (55/55), 17.27 KiB | 421.00 KiB/s, done.\n",
      "Resolving deltas: 100% (7/7), done.\n",
      "['tox.ini', 'MANIFEST.in', 'README.rst', 'Makefile', '.git', 'setup.py', 'tests', '.editorconfig', 'requirements_dev.txt', 'CODE_OF_CONDUCT.rst', '.gitignore', 'HISTORY.rst', 'AUTHORS.rst', 'README.md', 'CONTRIBUTING.rst', 'src', 'pyproject.toml', 'LICENSE', 'docs', '.travis.yml', '.github', 'ruff.toml']\n",
      "True\n",
      "Obtaining file:///home/phil/Programs/scimi/stegolab/textstego\n",
      "  Installing build dependencies ... \u001b[?25ldone\n",
      "\u001b[?25h  Checking if build backend supports build_editable ... \u001b[?25ldone\n",
      "\u001b[?25h  Getting requirements to build editable ... \u001b[?25ldone\n",
      "\u001b[?25h  Preparing editable metadata (pyproject.toml) ... \u001b[?25ldone\n",
      "\u001b[?25hBuilding wheels for collected packages: textstego\n",
      "  Building editable for textstego (pyproject.toml) ... \u001b[?25ldone\n",
      "\u001b[?25h  Created wheel for textstego: filename=textstego-0.1.0-0.editable-py3-none-any.whl size=3050 sha256=a6d0d693f70b7324877e40612ae189e4d8b1746067c8779b3d35e1eb63371cce\n",
      "  Stored in directory: /tmp/pip-ephem-wheel-cache-gkl8s0in/wheels/cf/2f/cd/724a350012e7d8fe22b03d5f0cf93f027f8b33a3f2ab98d52b\n",
      "Successfully built textstego\n",
      "Installing collected packages: textstego\n",
      "Successfully installed textstego-0.1.0\n",
      "['__class__', '__delattr__', '__dict__', '__dir__', '__doc__', '__eq__', '__format__', '__ge__', '__getattribute__', '__gt__', '__hash__', '__init__', '__init_subclass__', '__le__', '__lt__', '__module__', '__ne__', '__new__', '__reduce__', '__reduce_ex__', '__repr__', '__setattr__', '__sizeof__', '__str__', '__subclasshook__', '__weakref__', 'decode', 'encode']\n"
     ]
    }
   ],
   "source": [
    "\n",
    "# This code block imports programs, but it is suggested to not read it in detail the first time around.\n",
    "\n",
    "## Import packages from PyPI: The Python Package Index\n",
    "import os, shutil, sys\n",
    "\n",
    "## Install Python package from GitHub repository at the following url\n",
    "repo_url = \"https://github.com/mathemonads/textstego.git\"\n",
    "repo_dir = \"textstego\"\n",
    "if os.path.exists(repo_dir): # remove copies if one exists from previous runs\n",
    "  !pip uninstall -y textstego\n",
    "  !pip cache purge\n",
    "  print(\"Repository already exists. Removing\")\n",
    "  shutil.rmtree(repo_dir)\n",
    "!git clone {repo_url} # download\n",
    "files = os.listdir(repo_dir)\n",
    "print(files)\n",
    "print(\"setup.py\" in files)\n",
    "!pip install -e ./textstego\n",
    "sys.path.append('./textstego/src')\n",
    "\n",
    "from textstego import Stego1, Stego2\n",
    "stego1 = Stego1()\n",
    "stego2 = Stego2()\n",
    "print(dir(stego2)) # check that it contains 'encode' and 'decode'"
   ]
  },
  {
   "cell_type": "markdown",
   "metadata": {},
   "source": [
    "## 1. Experimenting with a first method of steganography\n",
    "\n",
    "### Assignment\n",
    "First, we assign values to variables."
   ]
  },
  {
   "cell_type": "code",
   "execution_count": 2,
   "metadata": {
    "colab": {
     "base_uri": "https://localhost:8080/"
    },
    "executionInfo": {
     "elapsed": 32,
     "status": "ok",
     "timestamp": 1716286687902,
     "user": {
      "displayName": "Oscar Hernandez",
      "userId": "15982305520609521713"
     },
     "user_tz": 600
    },
    "id": "6ZXj9ImXQ-Hc",
    "outputId": "3ca83023-f976-4cca-f7cf-e47d8520cd2f"
   },
   "outputs": [],
   "source": [
    "cover1 = \"This is a secret message.\" # message to be used as cover for the hidden information"
   ]
  },
  {
   "cell_type": "code",
   "execution_count": 3,
   "metadata": {},
   "outputs": [],
   "source": [
    "bits1 = \"10101\" # bits of information that we intend to hide in the cover message"
   ]
  },
  {
   "cell_type": "markdown",
   "metadata": {},
   "source": [
    "### Print\n",
    "Now, we use the `print` method to observe the current values of the variables. "
   ]
  },
  {
   "cell_type": "code",
   "execution_count": 4,
   "metadata": {},
   "outputs": [
    {
     "name": "stdout",
     "output_type": "stream",
     "text": [
      "Cover: This is a secret message.\n",
      " Bits: 10101\n"
     ]
    }
   ],
   "source": [
    "print(f\"Cover: {cover1}\")\n",
    "print(f\" Bits: {bits1}\")"
   ]
  },
  {
   "cell_type": "markdown",
   "metadata": {},
   "source": [
    "### Steganographic Encoding"
   ]
  },
  {
   "cell_type": "code",
   "execution_count": 5,
   "metadata": {},
   "outputs": [
    {
     "name": "stdout",
     "output_type": "stream",
     "text": [
      "Embedding: \"This  is a  secret message. \"\n",
      "    Cover: \"This is a secret message.\"\n"
     ]
    }
   ],
   "source": [
    "stego_text1 = stego1.encode(cover1, bits1)\n",
    "print(f'Embedding: \"{stego_text1}\"')\n",
    "print(f'    Cover: \"{cover1}\"')"
   ]
  },
  {
   "cell_type": "markdown",
   "metadata": {},
   "source": [
    "### Steganographic Decoding"
   ]
  },
  {
   "cell_type": "code",
   "execution_count": 6,
   "metadata": {},
   "outputs": [],
   "source": [
    "decoded_bits1 = stego1.decode(stego_text1)"
   ]
  },
  {
   "cell_type": "markdown",
   "metadata": {},
   "source": [
    "### Hypothesis Testing\n",
    "Finally, we compare the decoded bits to the original bits. "
   ]
  },
  {
   "cell_type": "code",
   "execution_count": 7,
   "metadata": {},
   "outputs": [
    {
     "name": "stdout",
     "output_type": "stream",
     "text": [
      "Decoding: 10101\n",
      "Original: 10101\n"
     ]
    }
   ],
   "source": [
    "print(f\"Decoding: {decoded_bits1}\")\n",
    "print(f\"Original: {bits1}\")"
   ]
  },
  {
   "cell_type": "markdown",
   "metadata": {
    "colab": {
     "base_uri": "https://localhost:8080/"
    },
    "executionInfo": {
     "elapsed": 26,
     "status": "ok",
     "timestamp": 1716286687902,
     "user": {
      "displayName": "Oscar Hernandez",
      "userId": "15982305520609521713"
     },
     "user_tz": 600
    },
    "id": "5Z8qW3sdWLOM",
    "outputId": "4dc1bebb-1903-4a95-fffa-f52efaf07f44"
   },
   "source": [
    "## 2. Experimenting with a second method of steganography\n",
    "\n",
    "Set arguments."
   ]
  },
  {
   "cell_type": "code",
   "execution_count": 8,
   "metadata": {},
   "outputs": [
    {
     "name": "stdout",
     "output_type": "stream",
     "text": [
      "Cover: Hello.\n",
      " Bits: 10101\n"
     ]
    }
   ],
   "source": [
    "cover2 = \"Hello.\"\n",
    "bits2 = \"10101\"\n",
    "print(f\"Cover: {cover2}\")\n",
    "print(f\" Bits: {bits2}\")"
   ]
  },
  {
   "cell_type": "markdown",
   "metadata": {},
   "source": [
    "### Encode and decode"
   ]
  },
  {
   "cell_type": "code",
   "execution_count": 9,
   "metadata": {},
   "outputs": [
    {
     "name": "stdout",
     "output_type": "stream",
     "text": [
      "    Cover: Hello.\n",
      "Embedding: HeLlO.\n",
      " Decoding: 10101\n",
      " Original: 10101\n",
      "\n",
      "Decoder 2 on message encoded with embedding 1: 10000000000000000000\n",
      "Hidden information: 10101\n"
     ]
    }
   ],
   "source": [
    "stego_text2 = stego2.encode(cover2, bits2)\n",
    "decoded_bits2 = stego2.decode(stego_text2)\n",
    "print(f\"    Cover: {cover2}\")\n",
    "print(f\"Embedding: {stego_text2}\")\n",
    "print(f\" Decoding: {decoded_bits2}\")\n",
    "print(f\" Original: {bits2}\\n\")\n",
    "\n",
    "wrong_decoding = stego2.decode(stego_text1)\n",
    "print(f\"Decoder 2 on message encoded with embedding 1: {wrong_decoding}\")\n",
    "print(f\"Hidden information: {decoded_bits1}\")"
   ]
  }
 ],
 "metadata": {
  "colab": {
   "provenance": []
  },
  "kernelspec": {
   "display_name": "Python 3 (ipykernel)",
   "language": "python",
   "name": "python3"
  },
  "language_info": {
   "codemirror_mode": {
    "name": "ipython",
    "version": 3
   },
   "file_extension": ".py",
   "mimetype": "text/x-python",
   "name": "python",
   "nbconvert_exporter": "python",
   "pygments_lexer": "ipython3",
   "version": "3.10.12"
  }
 },
 "nbformat": 4,
 "nbformat_minor": 1
}
